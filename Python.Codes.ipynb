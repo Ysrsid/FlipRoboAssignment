{
 "cells": [
  {
   "cell_type": "code",
   "execution_count": null,
   "metadata": {},
   "outputs": [],
   "source": [
    "#Program to find whether a number is prime or composite.\n",
    "\n",
    "number = int(input(\"Enter The Number\"))\n",
    "\n",
    "if number > 1:\n",
    "    for i in range(2,int(number/2)+1):\n",
    "        if (number % i == 0):\n",
    "            print(number, \"is Composite Number\")\n",
    "            break\n",
    "    else:\n",
    "        print(number,\"is a Prime number\")\n",
    "# If the number is less than 1 it can't be Prime    \n",
    "else:\n",
    "    print(number,\"is Composite number\")"
   ]
  },
  {
   "cell_type": "code",
   "execution_count": null,
   "metadata": {},
   "outputs": [],
   "source": [
    "# Finding the factorial of a number.\n",
    "\n",
    "num = int(input(\"Enter a number: \"))    \n",
    "factorial = 1    \n",
    "if num < 0:    \n",
    "   print(\" Factorial does not exist for negative numbers\")    \n",
    "elif num == 0:    \n",
    "   print(\"The factorial of 0 is 1\")    \n",
    "else:    \n",
    "   for i in range(1,num + 1):    \n",
    "       factorial = factorial*i    \n",
    "   print(\"The factorial of\",num,\"is\",factorial) "
   ]
  },
  {
   "cell_type": "code",
   "execution_count": null,
   "metadata": {},
   "outputs": [],
   "source": [
    "# To get the third side of right-angled triangle from two given sides.\n",
    "\n",
    "from math import sqrt\n",
    "print(\"Enter the Lenght\")\n",
    "\n",
    "a= float(input(\"a : \"))\n",
    "b= float( input(\"b: \"))\n",
    "\n",
    "c= sqrt(a*2 + b*2)\n",
    "print(\"the lenght of the third side is \" , c)"
   ]
  },
  {
   "cell_type": "code",
   "execution_count": null,
   "metadata": {},
   "outputs": [],
   "source": [
    "# To check whether a given string is palindrome or not\n",
    "\n",
    "def check(st):\n",
    "    rev=st[::-1]\n",
    "    print(\"String  : \",st)\n",
    "    print(\"Reverse : \",rev)\n",
    "    if(st==rev):\n",
    "        return True\n",
    "    else:\n",
    "        return False\n",
    "x=input(\"Enter a String : \")\n",
    "if check(x):\n",
    "    print(\"It is a Palindrome\")\n",
    "else:\n",
    "    print(\"It is not a Palindrome\")"
   ]
  },
  {
   "cell_type": "code",
   "execution_count": null,
   "metadata": {},
   "outputs": [],
   "source": [
    "#python program to print the frequency of each of the characters present in a given string\n",
    "\n",
    "na = input(\"Enter any String \")\n",
    "ch = input(\"Enter seach Character \")\n",
    "f = 0\n",
    "for i in na:\n",
    "    if i == ch:\n",
    "        f=f+1\n",
    "print(\"Number of time Found =\",f)"
   ]
  },
  {
   "cell_type": "code",
   "execution_count": null,
   "metadata": {},
   "outputs": [],
   "source": []
  }
 ],
 "metadata": {
  "kernelspec": {
   "display_name": "Python 3",
   "language": "python",
   "name": "python3"
  },
  "language_info": {
   "codemirror_mode": {
    "name": "ipython",
    "version": 3
   },
   "file_extension": ".py",
   "mimetype": "text/x-python",
   "name": "python",
   "nbconvert_exporter": "python",
   "pygments_lexer": "ipython3",
   "version": "3.8.5"
  }
 },
 "nbformat": 4,
 "nbformat_minor": 4
}
